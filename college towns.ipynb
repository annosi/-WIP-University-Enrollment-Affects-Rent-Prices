{
 "cells": [
  {
   "cell_type": "markdown",
   "id": "d39ef931-1e71-4401-97f5-71c2f70bbe62",
   "metadata": {},
   "source": [
    "First, we read in rent price data."
   ]
  },
  {
   "cell_type": "code",
   "execution_count": 18,
   "id": "1c86d32a-9e8d-46ff-98b7-b214c8051d7d",
   "metadata": {},
   "outputs": [
    {
     "data": {
      "text/plain": [
       "                                                              areaname \n",
       " Accomack County, VA                                              : 1  \n",
       " Alleghany County-Clifton Forge city-Covington city, VA HUD Nonmet: 1  \n",
       " Bath County, VA                                                  : 1  \n",
       " Blacksburg-Christiansburg-Radford, VA HUD Metro FMR Area         : 1  \n",
       " Bland County, VA                                                 : 1  \n",
       " Brunswick County, VA                                             : 1  \n",
       " (Other)                                                          :58  \n",
       "          category      X2020            X2019            X2018       \n",
       " College Town :24   Min.   : 719.0   Min.   : 704.4   Min.   : 706.2  \n",
       " Ordinary Town:40   1st Qu.: 774.3   1st Qu.: 755.1   1st Qu.: 753.7  \n",
       "                    Median : 845.9   Median : 864.3   Median : 850.4  \n",
       "                    Mean   : 919.6   Mean   : 905.3   Mean   : 902.3  \n",
       "                    3rd Qu.: 996.6   3rd Qu.: 997.6   3rd Qu.: 992.8  \n",
       "                    Max.   :1917.2   Max.   :1877.6   Max.   :2022.6  \n",
       "                                                                      \n",
       "     X2017            X2016            X2015            X2014       \n",
       " Min.   : 655.8   Min.   : 677.0   Min.   : 650.0   Min.   : 623.8  \n",
       " 1st Qu.: 700.9   1st Qu.: 726.5   1st Qu.: 707.8   1st Qu.: 678.5  \n",
       " Median : 796.2   Median : 769.8   Median : 784.3   Median : 723.1  \n",
       " Mean   : 857.6   Mean   : 848.3   Mean   : 848.6   Mean   : 802.8  \n",
       " 3rd Qu.: 958.7   3rd Qu.: 908.8   3rd Qu.: 935.2   3rd Qu.: 832.0  \n",
       " Max.   :1970.8   Max.   :1840.4   Max.   :1651.4   Max.   :1664.0  \n",
       "                                                                    \n",
       "     X2013            X2012            X2011       \n",
       " Min.   : 633.2   Min.   : 537.2   Min.   : 575.8  \n",
       " 1st Qu.: 692.1   1st Qu.: 608.6   1st Qu.: 648.9  \n",
       " Median : 752.1   Median : 662.1   Median : 703.3  \n",
       " Mean   : 823.6   Mean   : 734.5   Mean   : 754.8  \n",
       " 3rd Qu.: 886.6   3rd Qu.: 830.0   3rd Qu.: 769.8  \n",
       " Max.   :1599.4   Max.   :1697.0   Max.   :1646.4  \n",
       "                                                   "
      ]
     },
     "metadata": {},
     "output_type": "display_data"
    }
   ],
   "source": [
    "summary(rent <- read.csv('rentprice.csv',stringsAsFactors = TRUE))"
   ]
  },
  {
   "cell_type": "markdown",
   "id": "87e6201a-708f-4beb-bb81-23af0b8705b9",
   "metadata": {},
   "source": [
    "Let's read in population data"
   ]
  },
  {
   "cell_type": "code",
   "execution_count": 19,
   "id": "89338cbd-42fd-4780-9791-52d45253beab",
   "metadata": {},
   "outputs": [
    {
     "data": {
      "text/plain": [
       "         place         X2011             X2012             X2013        \n",
       " geoId/51001:  1   Min.   :   2354   Min.   :   2317   Min.   :   2276  \n",
       " geoId/51003:  1   1st Qu.:  13882   1st Qu.:  14207   1st Qu.:  14579  \n",
       " geoId/51005:  1   Median :  24733   Median :  24932   Median :  25497  \n",
       " geoId/51007:  1   Mean   :  59549   Mean   :  60217   Mean   :  60862  \n",
       " geoId/51009:  1   3rd Qu.:  54524   3rd Qu.:  54691   3rd Qu.:  54804  \n",
       " geoId/51011:  1   Max.   :1064735   Max.   :1083770   Max.   :1101071  \n",
       " (Other)    :127                                                        \n",
       "     X2014             X2015             X2016             X2017        \n",
       " Min.   :   2258   Min.   :   2244   Min.   :   2230   Min.   :   2213  \n",
       " 1st Qu.:  14401   1st Qu.:  14754   1st Qu.:  14831   1st Qu.:  14817  \n",
       " Median :  25380   Median :  25206   Median :  25290   Median :  25564  \n",
       " Mean   :  61542   Mean   :  62080   Mean   :  62484   Mean   :  62902  \n",
       " 3rd Qu.:  54833   3rd Qu.:  54759   3rd Qu.:  54562   3rd Qu.:  54457  \n",
       " Max.   :1117072   Max.   :1128722   Max.   :1132887   Max.   :1142004  \n",
       "                                                                        \n",
       "     X2018             X2019             X2020                    countyname \n",
       " Min.   :   2214   Min.   :   2204   Min.   :   2202   Accomack County :  1  \n",
       " 1st Qu.:  14788   1st Qu.:  14756   1st Qu.:  14524   Albemarle County:  1  \n",
       " Median :  25890   Median :  26229   Median :  26679   Alexandria      :  1  \n",
       " Mean   :  63262   Mean   :  63567   Mean   :  63980   Alleghany County:  1  \n",
       " 3rd Qu.:  54406   3rd Qu.:  54071   3rd Qu.:  54005   Amelia County   :  1  \n",
       " Max.   :1143529   Max.   :1145862   Max.   :1149439   Amherst County  :  1  \n",
       "                                                       (Other)         :127  "
      ]
     },
     "metadata": {},
     "output_type": "display_data"
    }
   ],
   "source": [
    "summary(pop <- read.csv('population.csv', stringsAsFactors = TRUE))"
   ]
  },
  {
   "cell_type": "markdown",
   "id": "1a227cae-97f3-44ce-a000-d67bf1fd0c53",
   "metadata": {},
   "source": [
    "We have population information at the county level and rent price information at the area name level. We need to aggregate population infomration to the area name level.\n",
    "\n",
    "First, let's upload data showing area name and county name"
   ]
  },
  {
   "cell_type": "code",
   "execution_count": 52,
   "id": "489c0866-76a4-4573-a3f6-faa67f62ac8f",
   "metadata": {},
   "outputs": [
    {
     "data": {
      "text/plain": [
       "                                                          areaname \n",
       " Washington-Arlington-Alexandria, DC-VA-MD HUD Metro FMR Area :20  \n",
       " Richmond, VA MSA                                             :16  \n",
       " Virginia Beach-Norfolk-Newport News, VA-NC HUD Metro FMR Area:15  \n",
       " Charlottesville, VA MSA                                      : 5  \n",
       " Kingsport-Bristol-Bristol, TN-VA MSA                         : 5  \n",
       " Lynchburg, VA MSA                                            : 5  \n",
       " (Other)                                                      :77  \n",
       "             countyname \n",
       " Frederick County :  2  \n",
       " Montgomery County:  2  \n",
       " Accomack County  :  1  \n",
       " Albemarle County :  1  \n",
       " Alexandria       :  1  \n",
       " Alleghany County :  1  \n",
       " (Other)          :135  "
      ]
     },
     "metadata": {},
     "output_type": "display_data"
    }
   ],
   "source": [
    "summary(area <- read.csv('areaname.csv', stringsAsFactors = TRUE))"
   ]
  },
  {
   "cell_type": "markdown",
   "id": "f2368ac6-3351-4a6a-89c1-8d0cbdf562ec",
   "metadata": {},
   "source": [
    "Now we're going to merge `area` and `pop` on countyname"
   ]
  },
  {
   "cell_type": "code",
   "execution_count": 53,
   "id": "c8b93630-a4dc-4eb5-8625-5c668e4cb6c8",
   "metadata": {},
   "outputs": [
    {
     "data": {
      "text/html": [
       "<table class=\"dataframe\">\n",
       "<caption>A data.frame: 6 × 13</caption>\n",
       "<thead>\n",
       "\t<tr><th></th><th scope=col>countyname</th><th scope=col>place</th><th scope=col>X2011</th><th scope=col>X2012</th><th scope=col>X2013</th><th scope=col>X2014</th><th scope=col>X2015</th><th scope=col>X2016</th><th scope=col>X2017</th><th scope=col>X2018</th><th scope=col>X2019</th><th scope=col>X2020</th><th scope=col>areaname</th></tr>\n",
       "\t<tr><th></th><th scope=col>&lt;fct&gt;</th><th scope=col>&lt;fct&gt;</th><th scope=col>&lt;int&gt;</th><th scope=col>&lt;int&gt;</th><th scope=col>&lt;int&gt;</th><th scope=col>&lt;int&gt;</th><th scope=col>&lt;int&gt;</th><th scope=col>&lt;int&gt;</th><th scope=col>&lt;int&gt;</th><th scope=col>&lt;int&gt;</th><th scope=col>&lt;int&gt;</th><th scope=col>&lt;int&gt;</th><th scope=col>&lt;fct&gt;</th></tr>\n",
       "</thead>\n",
       "<tbody>\n",
       "\t<tr><th scope=row>1</th><td>Accomack County </td><td>geoId/51001</td><td> 33701</td><td> 33454</td><td> 33289</td><td> 33165</td><td> 33115</td><td> 33060</td><td> 32840</td><td> 32742</td><td> 32673</td><td> 32560</td><td>Accomack County, VA                                              </td></tr>\n",
       "\t<tr><th scope=row>2</th><td>Albemarle County</td><td>geoId/51003</td><td> 97978</td><td> 99484</td><td>100636</td><td>101883</td><td>103108</td><td>104287</td><td>105105</td><td>106355</td><td>107405</td><td>108819</td><td>Charlottesville, VA MSA                                          </td></tr>\n",
       "\t<tr><th scope=row>3</th><td>Alexandria      </td><td>geoId/51510</td><td>136968</td><td>140337</td><td>143684</td><td>146422</td><td>149315</td><td>151473</td><td>154710</td><td>156505</td><td>157613</td><td>158309</td><td>Washington-Arlington-Alexandria, DC-VA-MD HUD Metro FMR Area     </td></tr>\n",
       "\t<tr><th scope=row>4</th><td>Alleghany County</td><td>geoId/51005</td><td> 16326</td><td> 16297</td><td> 16240</td><td> 16133</td><td> 16066</td><td> 15919</td><td> 15489</td><td> 15286</td><td> 15157</td><td> 15030</td><td>Alleghany County-Clifton Forge city-Covington city, VA HUD Nonmet</td></tr>\n",
       "\t<tr><th scope=row>5</th><td>Amelia County   </td><td>geoId/51007</td><td> 12631</td><td> 12674</td><td> 12712</td><td> 12764</td><td> 12777</td><td> 12793</td><td> 12802</td><td> 12854</td><td> 12953</td><td> 12970</td><td>Richmond, VA MSA                                                 </td></tr>\n",
       "\t<tr><th scope=row>6</th><td>Amherst County  </td><td>geoId/51009</td><td> 32339</td><td> 32301</td><td> 32244</td><td> 32237</td><td> 32148</td><td> 31999</td><td> 31819</td><td> 31882</td><td> 31775</td><td> 31782</td><td>Lynchburg, VA MSA                                                </td></tr>\n",
       "</tbody>\n",
       "</table>\n"
      ],
      "text/latex": [
       "A data.frame: 6 × 13\n",
       "\\begin{tabular}{r|lllllllllllll}\n",
       "  & countyname & place & X2011 & X2012 & X2013 & X2014 & X2015 & X2016 & X2017 & X2018 & X2019 & X2020 & areaname\\\\\n",
       "  & <fct> & <fct> & <int> & <int> & <int> & <int> & <int> & <int> & <int> & <int> & <int> & <int> & <fct>\\\\\n",
       "\\hline\n",
       "\t1 & Accomack County  & geoId/51001 &  33701 &  33454 &  33289 &  33165 &  33115 &  33060 &  32840 &  32742 &  32673 &  32560 & Accomack County, VA                                              \\\\\n",
       "\t2 & Albemarle County & geoId/51003 &  97978 &  99484 & 100636 & 101883 & 103108 & 104287 & 105105 & 106355 & 107405 & 108819 & Charlottesville, VA MSA                                          \\\\\n",
       "\t3 & Alexandria       & geoId/51510 & 136968 & 140337 & 143684 & 146422 & 149315 & 151473 & 154710 & 156505 & 157613 & 158309 & Washington-Arlington-Alexandria, DC-VA-MD HUD Metro FMR Area     \\\\\n",
       "\t4 & Alleghany County & geoId/51005 &  16326 &  16297 &  16240 &  16133 &  16066 &  15919 &  15489 &  15286 &  15157 &  15030 & Alleghany County-Clifton Forge city-Covington city, VA HUD Nonmet\\\\\n",
       "\t5 & Amelia County    & geoId/51007 &  12631 &  12674 &  12712 &  12764 &  12777 &  12793 &  12802 &  12854 &  12953 &  12970 & Richmond, VA MSA                                                 \\\\\n",
       "\t6 & Amherst County   & geoId/51009 &  32339 &  32301 &  32244 &  32237 &  32148 &  31999 &  31819 &  31882 &  31775 &  31782 & Lynchburg, VA MSA                                                \\\\\n",
       "\\end{tabular}\n"
      ],
      "text/markdown": [
       "\n",
       "A data.frame: 6 × 13\n",
       "\n",
       "| <!--/--> | countyname &lt;fct&gt; | place &lt;fct&gt; | X2011 &lt;int&gt; | X2012 &lt;int&gt; | X2013 &lt;int&gt; | X2014 &lt;int&gt; | X2015 &lt;int&gt; | X2016 &lt;int&gt; | X2017 &lt;int&gt; | X2018 &lt;int&gt; | X2019 &lt;int&gt; | X2020 &lt;int&gt; | areaname &lt;fct&gt; |\n",
       "|---|---|---|---|---|---|---|---|---|---|---|---|---|---|\n",
       "| 1 | Accomack County  | geoId/51001 |  33701 |  33454 |  33289 |  33165 |  33115 |  33060 |  32840 |  32742 |  32673 |  32560 | Accomack County, VA                                               |\n",
       "| 2 | Albemarle County | geoId/51003 |  97978 |  99484 | 100636 | 101883 | 103108 | 104287 | 105105 | 106355 | 107405 | 108819 | Charlottesville, VA MSA                                           |\n",
       "| 3 | Alexandria       | geoId/51510 | 136968 | 140337 | 143684 | 146422 | 149315 | 151473 | 154710 | 156505 | 157613 | 158309 | Washington-Arlington-Alexandria, DC-VA-MD HUD Metro FMR Area      |\n",
       "| 4 | Alleghany County | geoId/51005 |  16326 |  16297 |  16240 |  16133 |  16066 |  15919 |  15489 |  15286 |  15157 |  15030 | Alleghany County-Clifton Forge city-Covington city, VA HUD Nonmet |\n",
       "| 5 | Amelia County    | geoId/51007 |  12631 |  12674 |  12712 |  12764 |  12777 |  12793 |  12802 |  12854 |  12953 |  12970 | Richmond, VA MSA                                                  |\n",
       "| 6 | Amherst County   | geoId/51009 |  32339 |  32301 |  32244 |  32237 |  32148 |  31999 |  31819 |  31882 |  31775 |  31782 | Lynchburg, VA MSA                                                 |\n",
       "\n"
      ],
      "text/plain": [
       "  countyname       place       X2011  X2012  X2013  X2014  X2015  X2016  X2017 \n",
       "1 Accomack County  geoId/51001  33701  33454  33289  33165  33115  33060  32840\n",
       "2 Albemarle County geoId/51003  97978  99484 100636 101883 103108 104287 105105\n",
       "3 Alexandria       geoId/51510 136968 140337 143684 146422 149315 151473 154710\n",
       "4 Alleghany County geoId/51005  16326  16297  16240  16133  16066  15919  15489\n",
       "5 Amelia County    geoId/51007  12631  12674  12712  12764  12777  12793  12802\n",
       "6 Amherst County   geoId/51009  32339  32301  32244  32237  32148  31999  31819\n",
       "  X2018  X2019  X2020 \n",
       "1  32742  32673  32560\n",
       "2 106355 107405 108819\n",
       "3 156505 157613 158309\n",
       "4  15286  15157  15030\n",
       "5  12854  12953  12970\n",
       "6  31882  31775  31782\n",
       "  areaname                                                         \n",
       "1 Accomack County, VA                                              \n",
       "2 Charlottesville, VA MSA                                          \n",
       "3 Washington-Arlington-Alexandria, DC-VA-MD HUD Metro FMR Area     \n",
       "4 Alleghany County-Clifton Forge city-Covington city, VA HUD Nonmet\n",
       "5 Richmond, VA MSA                                                 \n",
       "6 Lynchburg, VA MSA                                                "
      ]
     },
     "metadata": {},
     "output_type": "display_data"
    }
   ],
   "source": [
    "popl <- merge(pop,area,by=\"countyname\")\n",
    "head(popl)"
   ]
  },
  {
   "cell_type": "markdown",
   "id": "67b0e4eb-e75e-4b32-b7b0-92a4da243df6",
   "metadata": {},
   "source": [
    "We should check for duplicate values in our data"
   ]
  },
  {
   "cell_type": "code",
   "execution_count": 57,
   "id": "1c74863c-36aa-4a84-b73e-0fca6bf2bbe6",
   "metadata": {},
   "outputs": [
    {
     "data": {
      "text/html": [
       "<table class=\"dataframe\">\n",
       "<caption>A data.frame: 2 × 13</caption>\n",
       "<thead>\n",
       "\t<tr><th></th><th scope=col>countyname</th><th scope=col>place</th><th scope=col>X2011</th><th scope=col>X2012</th><th scope=col>X2013</th><th scope=col>X2014</th><th scope=col>X2015</th><th scope=col>X2016</th><th scope=col>X2017</th><th scope=col>X2018</th><th scope=col>X2019</th><th scope=col>X2020</th><th scope=col>areaname</th></tr>\n",
       "\t<tr><th></th><th scope=col>&lt;fct&gt;</th><th scope=col>&lt;fct&gt;</th><th scope=col>&lt;int&gt;</th><th scope=col>&lt;int&gt;</th><th scope=col>&lt;int&gt;</th><th scope=col>&lt;int&gt;</th><th scope=col>&lt;int&gt;</th><th scope=col>&lt;int&gt;</th><th scope=col>&lt;int&gt;</th><th scope=col>&lt;int&gt;</th><th scope=col>&lt;int&gt;</th><th scope=col>&lt;int&gt;</th><th scope=col>&lt;fct&gt;</th></tr>\n",
       "</thead>\n",
       "<tbody>\n",
       "\t<tr><th scope=row>47</th><td>Frederick County </td><td>geoId/51069</td><td>77277</td><td>78397</td><td>79453</td><td>80377</td><td>81340</td><td>82321</td><td>83784</td><td>85153</td><td>86415</td><td>88054</td><td>Winchester, VA-WV MSA                                   </td></tr>\n",
       "\t<tr><th scope=row>84</th><td>Montgomery County</td><td>geoId/51121</td><td>93379</td><td>94179</td><td>94910</td><td>95808</td><td>96467</td><td>97227</td><td>97692</td><td>97997</td><td>98140</td><td>98495</td><td>Blacksburg-Christiansburg-Radford, VA HUD Metro FMR Area</td></tr>\n",
       "</tbody>\n",
       "</table>\n"
      ],
      "text/latex": [
       "A data.frame: 2 × 13\n",
       "\\begin{tabular}{r|lllllllllllll}\n",
       "  & countyname & place & X2011 & X2012 & X2013 & X2014 & X2015 & X2016 & X2017 & X2018 & X2019 & X2020 & areaname\\\\\n",
       "  & <fct> & <fct> & <int> & <int> & <int> & <int> & <int> & <int> & <int> & <int> & <int> & <int> & <fct>\\\\\n",
       "\\hline\n",
       "\t47 & Frederick County  & geoId/51069 & 77277 & 78397 & 79453 & 80377 & 81340 & 82321 & 83784 & 85153 & 86415 & 88054 & Winchester, VA-WV MSA                                   \\\\\n",
       "\t84 & Montgomery County & geoId/51121 & 93379 & 94179 & 94910 & 95808 & 96467 & 97227 & 97692 & 97997 & 98140 & 98495 & Blacksburg-Christiansburg-Radford, VA HUD Metro FMR Area\\\\\n",
       "\\end{tabular}\n"
      ],
      "text/markdown": [
       "\n",
       "A data.frame: 2 × 13\n",
       "\n",
       "| <!--/--> | countyname &lt;fct&gt; | place &lt;fct&gt; | X2011 &lt;int&gt; | X2012 &lt;int&gt; | X2013 &lt;int&gt; | X2014 &lt;int&gt; | X2015 &lt;int&gt; | X2016 &lt;int&gt; | X2017 &lt;int&gt; | X2018 &lt;int&gt; | X2019 &lt;int&gt; | X2020 &lt;int&gt; | areaname &lt;fct&gt; |\n",
       "|---|---|---|---|---|---|---|---|---|---|---|---|---|---|\n",
       "| 47 | Frederick County  | geoId/51069 | 77277 | 78397 | 79453 | 80377 | 81340 | 82321 | 83784 | 85153 | 86415 | 88054 | Winchester, VA-WV MSA                                    |\n",
       "| 84 | Montgomery County | geoId/51121 | 93379 | 94179 | 94910 | 95808 | 96467 | 97227 | 97692 | 97997 | 98140 | 98495 | Blacksburg-Christiansburg-Radford, VA HUD Metro FMR Area |\n",
       "\n"
      ],
      "text/plain": [
       "   countyname        place       X2011 X2012 X2013 X2014 X2015 X2016 X2017\n",
       "47 Frederick County  geoId/51069 77277 78397 79453 80377 81340 82321 83784\n",
       "84 Montgomery County geoId/51121 93379 94179 94910 95808 96467 97227 97692\n",
       "   X2018 X2019 X2020 areaname                                                \n",
       "47 85153 86415 88054 Winchester, VA-WV MSA                                   \n",
       "84 97997 98140 98495 Blacksburg-Christiansburg-Radford, VA HUD Metro FMR Area"
      ]
     },
     "metadata": {},
     "output_type": "display_data"
    }
   ],
   "source": [
    "popl[duplicated(popl$countyname),]"
   ]
  },
  {
   "cell_type": "code",
   "execution_count": 58,
   "id": "a3f08e50-9fc8-47c2-af52-2eca4b8395fa",
   "metadata": {},
   "outputs": [
    {
     "data": {
      "text/html": [
       "<table class=\"dataframe\">\n",
       "<caption>A data.frame: 2 × 13</caption>\n",
       "<thead>\n",
       "\t<tr><th></th><th scope=col>countyname</th><th scope=col>place</th><th scope=col>X2011</th><th scope=col>X2012</th><th scope=col>X2013</th><th scope=col>X2014</th><th scope=col>X2015</th><th scope=col>X2016</th><th scope=col>X2017</th><th scope=col>X2018</th><th scope=col>X2019</th><th scope=col>X2020</th><th scope=col>areaname</th></tr>\n",
       "\t<tr><th></th><th scope=col>&lt;fct&gt;</th><th scope=col>&lt;fct&gt;</th><th scope=col>&lt;int&gt;</th><th scope=col>&lt;int&gt;</th><th scope=col>&lt;int&gt;</th><th scope=col>&lt;int&gt;</th><th scope=col>&lt;int&gt;</th><th scope=col>&lt;int&gt;</th><th scope=col>&lt;int&gt;</th><th scope=col>&lt;int&gt;</th><th scope=col>&lt;int&gt;</th><th scope=col>&lt;int&gt;</th><th scope=col>&lt;fct&gt;</th></tr>\n",
       "</thead>\n",
       "<tbody>\n",
       "\t<tr><th scope=row>83</th><td>Montgomery County</td><td>geoId/51121</td><td>93379</td><td>94179</td><td>94910</td><td>95808</td><td>96467</td><td>97227</td><td>97692</td><td>97997</td><td>98140</td><td>98495</td><td>Washington-Arlington-Alexandria, DC-VA-MD HUD Metro FMR Area</td></tr>\n",
       "\t<tr><th scope=row>84</th><td>Montgomery County</td><td>geoId/51121</td><td>93379</td><td>94179</td><td>94910</td><td>95808</td><td>96467</td><td>97227</td><td>97692</td><td>97997</td><td>98140</td><td>98495</td><td>Blacksburg-Christiansburg-Radford, VA HUD Metro FMR Area    </td></tr>\n",
       "</tbody>\n",
       "</table>\n"
      ],
      "text/latex": [
       "A data.frame: 2 × 13\n",
       "\\begin{tabular}{r|lllllllllllll}\n",
       "  & countyname & place & X2011 & X2012 & X2013 & X2014 & X2015 & X2016 & X2017 & X2018 & X2019 & X2020 & areaname\\\\\n",
       "  & <fct> & <fct> & <int> & <int> & <int> & <int> & <int> & <int> & <int> & <int> & <int> & <int> & <fct>\\\\\n",
       "\\hline\n",
       "\t83 & Montgomery County & geoId/51121 & 93379 & 94179 & 94910 & 95808 & 96467 & 97227 & 97692 & 97997 & 98140 & 98495 & Washington-Arlington-Alexandria, DC-VA-MD HUD Metro FMR Area\\\\\n",
       "\t84 & Montgomery County & geoId/51121 & 93379 & 94179 & 94910 & 95808 & 96467 & 97227 & 97692 & 97997 & 98140 & 98495 & Blacksburg-Christiansburg-Radford, VA HUD Metro FMR Area    \\\\\n",
       "\\end{tabular}\n"
      ],
      "text/markdown": [
       "\n",
       "A data.frame: 2 × 13\n",
       "\n",
       "| <!--/--> | countyname &lt;fct&gt; | place &lt;fct&gt; | X2011 &lt;int&gt; | X2012 &lt;int&gt; | X2013 &lt;int&gt; | X2014 &lt;int&gt; | X2015 &lt;int&gt; | X2016 &lt;int&gt; | X2017 &lt;int&gt; | X2018 &lt;int&gt; | X2019 &lt;int&gt; | X2020 &lt;int&gt; | areaname &lt;fct&gt; |\n",
       "|---|---|---|---|---|---|---|---|---|---|---|---|---|---|\n",
       "| 83 | Montgomery County | geoId/51121 | 93379 | 94179 | 94910 | 95808 | 96467 | 97227 | 97692 | 97997 | 98140 | 98495 | Washington-Arlington-Alexandria, DC-VA-MD HUD Metro FMR Area |\n",
       "| 84 | Montgomery County | geoId/51121 | 93379 | 94179 | 94910 | 95808 | 96467 | 97227 | 97692 | 97997 | 98140 | 98495 | Blacksburg-Christiansburg-Radford, VA HUD Metro FMR Area     |\n",
       "\n"
      ],
      "text/plain": [
       "   countyname        place       X2011 X2012 X2013 X2014 X2015 X2016 X2017\n",
       "83 Montgomery County geoId/51121 93379 94179 94910 95808 96467 97227 97692\n",
       "84 Montgomery County geoId/51121 93379 94179 94910 95808 96467 97227 97692\n",
       "   X2018 X2019 X2020\n",
       "83 97997 98140 98495\n",
       "84 97997 98140 98495\n",
       "   areaname                                                    \n",
       "83 Washington-Arlington-Alexandria, DC-VA-MD HUD Metro FMR Area\n",
       "84 Blacksburg-Christiansburg-Radford, VA HUD Metro FMR Area    "
      ]
     },
     "metadata": {},
     "output_type": "display_data"
    }
   ],
   "source": [
    "popl[popl$countyname == 'Montgomery County', ]"
   ]
  },
  {
   "cell_type": "code",
   "execution_count": 60,
   "id": "55232f4b-db41-4f1b-91ee-568b6b8c64e2",
   "metadata": {},
   "outputs": [
    {
     "data": {
      "text/html": [
       "<table class=\"dataframe\">\n",
       "<caption>A data.frame: 2 × 13</caption>\n",
       "<thead>\n",
       "\t<tr><th></th><th scope=col>countyname</th><th scope=col>place</th><th scope=col>X2011</th><th scope=col>X2012</th><th scope=col>X2013</th><th scope=col>X2014</th><th scope=col>X2015</th><th scope=col>X2016</th><th scope=col>X2017</th><th scope=col>X2018</th><th scope=col>X2019</th><th scope=col>X2020</th><th scope=col>areaname</th></tr>\n",
       "\t<tr><th></th><th scope=col>&lt;fct&gt;</th><th scope=col>&lt;fct&gt;</th><th scope=col>&lt;int&gt;</th><th scope=col>&lt;int&gt;</th><th scope=col>&lt;int&gt;</th><th scope=col>&lt;int&gt;</th><th scope=col>&lt;int&gt;</th><th scope=col>&lt;int&gt;</th><th scope=col>&lt;int&gt;</th><th scope=col>&lt;int&gt;</th><th scope=col>&lt;int&gt;</th><th scope=col>&lt;int&gt;</th><th scope=col>&lt;fct&gt;</th></tr>\n",
       "</thead>\n",
       "<tbody>\n",
       "\t<tr><th scope=row>46</th><td>Frederick County</td><td>geoId/51069</td><td>77277</td><td>78397</td><td>79453</td><td>80377</td><td>81340</td><td>82321</td><td>83784</td><td>85153</td><td>86415</td><td>88054</td><td>Washington-Arlington-Alexandria, DC-VA-MD HUD Metro FMR Area</td></tr>\n",
       "\t<tr><th scope=row>47</th><td>Frederick County</td><td>geoId/51069</td><td>77277</td><td>78397</td><td>79453</td><td>80377</td><td>81340</td><td>82321</td><td>83784</td><td>85153</td><td>86415</td><td>88054</td><td>Winchester, VA-WV MSA                                       </td></tr>\n",
       "</tbody>\n",
       "</table>\n"
      ],
      "text/latex": [
       "A data.frame: 2 × 13\n",
       "\\begin{tabular}{r|lllllllllllll}\n",
       "  & countyname & place & X2011 & X2012 & X2013 & X2014 & X2015 & X2016 & X2017 & X2018 & X2019 & X2020 & areaname\\\\\n",
       "  & <fct> & <fct> & <int> & <int> & <int> & <int> & <int> & <int> & <int> & <int> & <int> & <int> & <fct>\\\\\n",
       "\\hline\n",
       "\t46 & Frederick County & geoId/51069 & 77277 & 78397 & 79453 & 80377 & 81340 & 82321 & 83784 & 85153 & 86415 & 88054 & Washington-Arlington-Alexandria, DC-VA-MD HUD Metro FMR Area\\\\\n",
       "\t47 & Frederick County & geoId/51069 & 77277 & 78397 & 79453 & 80377 & 81340 & 82321 & 83784 & 85153 & 86415 & 88054 & Winchester, VA-WV MSA                                       \\\\\n",
       "\\end{tabular}\n"
      ],
      "text/markdown": [
       "\n",
       "A data.frame: 2 × 13\n",
       "\n",
       "| <!--/--> | countyname &lt;fct&gt; | place &lt;fct&gt; | X2011 &lt;int&gt; | X2012 &lt;int&gt; | X2013 &lt;int&gt; | X2014 &lt;int&gt; | X2015 &lt;int&gt; | X2016 &lt;int&gt; | X2017 &lt;int&gt; | X2018 &lt;int&gt; | X2019 &lt;int&gt; | X2020 &lt;int&gt; | areaname &lt;fct&gt; |\n",
       "|---|---|---|---|---|---|---|---|---|---|---|---|---|---|\n",
       "| 46 | Frederick County | geoId/51069 | 77277 | 78397 | 79453 | 80377 | 81340 | 82321 | 83784 | 85153 | 86415 | 88054 | Washington-Arlington-Alexandria, DC-VA-MD HUD Metro FMR Area |\n",
       "| 47 | Frederick County | geoId/51069 | 77277 | 78397 | 79453 | 80377 | 81340 | 82321 | 83784 | 85153 | 86415 | 88054 | Winchester, VA-WV MSA                                        |\n",
       "\n"
      ],
      "text/plain": [
       "   countyname       place       X2011 X2012 X2013 X2014 X2015 X2016 X2017 X2018\n",
       "46 Frederick County geoId/51069 77277 78397 79453 80377 81340 82321 83784 85153\n",
       "47 Frederick County geoId/51069 77277 78397 79453 80377 81340 82321 83784 85153\n",
       "   X2019 X2020 areaname                                                    \n",
       "46 86415 88054 Washington-Arlington-Alexandria, DC-VA-MD HUD Metro FMR Area\n",
       "47 86415 88054 Winchester, VA-WV MSA                                       "
      ]
     },
     "metadata": {},
     "output_type": "display_data"
    }
   ],
   "source": [
    "popl[popl$countyname == 'Frederick County', ]"
   ]
  },
  {
   "cell_type": "markdown",
   "id": "f6767486-5349-4467-9176-67c5f2dcf97a",
   "metadata": {},
   "source": [
    "Going back to our source data, the geoid/51121 for Montgomery County represents the Montgomery County in Blacksburg, and the geoid/51069 for Frederick County represents the Frederick County in Winchester. So, we would have to delete the rows that are not right."
   ]
  },
  {
   "cell_type": "code",
   "execution_count": 61,
   "id": "f5c6725e-635f-4c69-b3d2-3575e1632b4b",
   "metadata": {},
   "outputs": [],
   "source": [
    "npop <- popl[-c(46,83),]"
   ]
  },
  {
   "cell_type": "markdown",
   "id": "51a4dc06-0ed4-4839-a995-f087b9e78528",
   "metadata": {},
   "source": [
    "Now that we have identified the area name for each county, we need to aggregate the population dataframe to show population at area name level."
   ]
  },
  {
   "cell_type": "code",
   "execution_count": 86,
   "id": "368f6348-6a6c-4f4c-9693-bec318c462e2",
   "metadata": {},
   "outputs": [
    {
     "data": {
      "text/html": [
       "<table class=\"dataframe\">\n",
       "<caption>A data.frame: 6 × 11</caption>\n",
       "<thead>\n",
       "\t<tr><th></th><th scope=col>areaname</th><th scope=col>X2011</th><th scope=col>X2012</th><th scope=col>X2013</th><th scope=col>X2014</th><th scope=col>X2015</th><th scope=col>X2016</th><th scope=col>X2017</th><th scope=col>X2018</th><th scope=col>X2019</th><th scope=col>X2020</th></tr>\n",
       "\t<tr><th></th><th scope=col>&lt;fct&gt;</th><th scope=col>&lt;int&gt;</th><th scope=col>&lt;int&gt;</th><th scope=col>&lt;int&gt;</th><th scope=col>&lt;int&gt;</th><th scope=col>&lt;int&gt;</th><th scope=col>&lt;int&gt;</th><th scope=col>&lt;int&gt;</th><th scope=col>&lt;int&gt;</th><th scope=col>&lt;int&gt;</th><th scope=col>&lt;int&gt;</th></tr>\n",
       "</thead>\n",
       "<tbody>\n",
       "\t<tr><th scope=row>1</th><td>Accomack County, VA                                              </td><td> 33701</td><td> 33454</td><td> 33289</td><td> 33165</td><td> 33115</td><td> 33060</td><td> 32840</td><td> 32742</td><td> 32673</td><td> 32560</td></tr>\n",
       "\t<tr><th scope=row>2</th><td>Alleghany County-Clifton Forge city-Covington city, VA HUD Nonmet</td><td> 22308</td><td> 22200</td><td> 22120</td><td> 21986</td><td> 21802</td><td> 21569</td><td> 21164</td><td> 20868</td><td> 20755</td><td> 20683</td></tr>\n",
       "\t<tr><th scope=row>3</th><td>Bath County, VA                                                  </td><td>  4747</td><td>  4713</td><td>  4686</td><td>  4644</td><td>  4583</td><td>  4558</td><td>  4458</td><td>  4393</td><td>  4307</td><td>  4248</td></tr>\n",
       "\t<tr><th scope=row>4</th><td>Blacksburg-Christiansburg-Radford, VA HUD Metro FMR Area         </td><td>109753</td><td>110690</td><td>111615</td><td>112801</td><td>113524</td><td>114413</td><td>115072</td><td>115627</td><td>115831</td><td>116328</td></tr>\n",
       "\t<tr><th scope=row>5</th><td>Bland County, VA                                                 </td><td>  6871</td><td>  6827</td><td>  6795</td><td>  6727</td><td>  6662</td><td>  6612</td><td>  6524</td><td>  6447</td><td>  6388</td><td>  6334</td></tr>\n",
       "\t<tr><th scope=row>6</th><td>Brunswick County, VA                                             </td><td> 17553</td><td> 17372</td><td> 17220</td><td> 16961</td><td> 16930</td><td> 16573</td><td> 16435</td><td> 16665</td><td> 16520</td><td> 16336</td></tr>\n",
       "</tbody>\n",
       "</table>\n"
      ],
      "text/latex": [
       "A data.frame: 6 × 11\n",
       "\\begin{tabular}{r|lllllllllll}\n",
       "  & areaname & X2011 & X2012 & X2013 & X2014 & X2015 & X2016 & X2017 & X2018 & X2019 & X2020\\\\\n",
       "  & <fct> & <int> & <int> & <int> & <int> & <int> & <int> & <int> & <int> & <int> & <int>\\\\\n",
       "\\hline\n",
       "\t1 & Accomack County, VA                                               &  33701 &  33454 &  33289 &  33165 &  33115 &  33060 &  32840 &  32742 &  32673 &  32560\\\\\n",
       "\t2 & Alleghany County-Clifton Forge city-Covington city, VA HUD Nonmet &  22308 &  22200 &  22120 &  21986 &  21802 &  21569 &  21164 &  20868 &  20755 &  20683\\\\\n",
       "\t3 & Bath County, VA                                                   &   4747 &   4713 &   4686 &   4644 &   4583 &   4558 &   4458 &   4393 &   4307 &   4248\\\\\n",
       "\t4 & Blacksburg-Christiansburg-Radford, VA HUD Metro FMR Area          & 109753 & 110690 & 111615 & 112801 & 113524 & 114413 & 115072 & 115627 & 115831 & 116328\\\\\n",
       "\t5 & Bland County, VA                                                  &   6871 &   6827 &   6795 &   6727 &   6662 &   6612 &   6524 &   6447 &   6388 &   6334\\\\\n",
       "\t6 & Brunswick County, VA                                              &  17553 &  17372 &  17220 &  16961 &  16930 &  16573 &  16435 &  16665 &  16520 &  16336\\\\\n",
       "\\end{tabular}\n"
      ],
      "text/markdown": [
       "\n",
       "A data.frame: 6 × 11\n",
       "\n",
       "| <!--/--> | areaname &lt;fct&gt; | X2011 &lt;int&gt; | X2012 &lt;int&gt; | X2013 &lt;int&gt; | X2014 &lt;int&gt; | X2015 &lt;int&gt; | X2016 &lt;int&gt; | X2017 &lt;int&gt; | X2018 &lt;int&gt; | X2019 &lt;int&gt; | X2020 &lt;int&gt; |\n",
       "|---|---|---|---|---|---|---|---|---|---|---|---|\n",
       "| 1 | Accomack County, VA                                               |  33701 |  33454 |  33289 |  33165 |  33115 |  33060 |  32840 |  32742 |  32673 |  32560 |\n",
       "| 2 | Alleghany County-Clifton Forge city-Covington city, VA HUD Nonmet |  22308 |  22200 |  22120 |  21986 |  21802 |  21569 |  21164 |  20868 |  20755 |  20683 |\n",
       "| 3 | Bath County, VA                                                   |   4747 |   4713 |   4686 |   4644 |   4583 |   4558 |   4458 |   4393 |   4307 |   4248 |\n",
       "| 4 | Blacksburg-Christiansburg-Radford, VA HUD Metro FMR Area          | 109753 | 110690 | 111615 | 112801 | 113524 | 114413 | 115072 | 115627 | 115831 | 116328 |\n",
       "| 5 | Bland County, VA                                                  |   6871 |   6827 |   6795 |   6727 |   6662 |   6612 |   6524 |   6447 |   6388 |   6334 |\n",
       "| 6 | Brunswick County, VA                                              |  17553 |  17372 |  17220 |  16961 |  16930 |  16573 |  16435 |  16665 |  16520 |  16336 |\n",
       "\n"
      ],
      "text/plain": [
       "  areaname                                                          X2011 \n",
       "1 Accomack County, VA                                                33701\n",
       "2 Alleghany County-Clifton Forge city-Covington city, VA HUD Nonmet  22308\n",
       "3 Bath County, VA                                                     4747\n",
       "4 Blacksburg-Christiansburg-Radford, VA HUD Metro FMR Area          109753\n",
       "5 Bland County, VA                                                    6871\n",
       "6 Brunswick County, VA                                               17553\n",
       "  X2012  X2013  X2014  X2015  X2016  X2017  X2018  X2019  X2020 \n",
       "1  33454  33289  33165  33115  33060  32840  32742  32673  32560\n",
       "2  22200  22120  21986  21802  21569  21164  20868  20755  20683\n",
       "3   4713   4686   4644   4583   4558   4458   4393   4307   4248\n",
       "4 110690 111615 112801 113524 114413 115072 115627 115831 116328\n",
       "5   6827   6795   6727   6662   6612   6524   6447   6388   6334\n",
       "6  17372  17220  16961  16930  16573  16435  16665  16520  16336"
      ]
     },
     "metadata": {},
     "output_type": "display_data"
    }
   ],
   "source": [
    "agg <- cbind(npop[,c(-1,-2)])\n",
    "popn <- aggregate(. ~ areaname, data=agg, FUN=sum)\n",
    "head(popn)"
   ]
  },
  {
   "cell_type": "markdown",
   "id": "4c01adb3-501f-4d9b-b089-f43b0989d62f",
   "metadata": {},
   "source": [
    "Now our population data is aggregated at the same level as our rent price data.\n",
    "\n",
    "Before we merge, let us transform our dataframes from wide to long format"
   ]
  },
  {
   "cell_type": "code",
   "execution_count": 88,
   "id": "3f1f4df8-7314-404c-8ec8-754c237c634e",
   "metadata": {},
   "outputs": [],
   "source": [
    "popn$areaname <- factor(popn$areaname)"
   ]
  },
  {
   "cell_type": "code",
   "execution_count": 91,
   "id": "4c8b10ef-db56-472a-abf9-50c3310842a5",
   "metadata": {},
   "outputs": [
    {
     "data": {
      "text/html": [
       "<table class=\"dataframe\">\n",
       "<caption>A data.frame: 6 × 3</caption>\n",
       "<thead>\n",
       "\t<tr><th></th><th scope=col>areaname</th><th scope=col>year</th><th scope=col>population</th></tr>\n",
       "\t<tr><th></th><th scope=col>&lt;fct&gt;</th><th scope=col>&lt;fct&gt;</th><th scope=col>&lt;int&gt;</th></tr>\n",
       "</thead>\n",
       "<tbody>\n",
       "\t<tr><th scope=row>1</th><td>Accomack County, VA                                              </td><td>X2011</td><td> 33701</td></tr>\n",
       "\t<tr><th scope=row>2</th><td>Alleghany County-Clifton Forge city-Covington city, VA HUD Nonmet</td><td>X2011</td><td> 22308</td></tr>\n",
       "\t<tr><th scope=row>3</th><td>Bath County, VA                                                  </td><td>X2011</td><td>  4747</td></tr>\n",
       "\t<tr><th scope=row>4</th><td>Blacksburg-Christiansburg-Radford, VA HUD Metro FMR Area         </td><td>X2011</td><td>109753</td></tr>\n",
       "\t<tr><th scope=row>5</th><td>Bland County, VA                                                 </td><td>X2011</td><td>  6871</td></tr>\n",
       "\t<tr><th scope=row>6</th><td>Brunswick County, VA                                             </td><td>X2011</td><td> 17553</td></tr>\n",
       "</tbody>\n",
       "</table>\n"
      ],
      "text/latex": [
       "A data.frame: 6 × 3\n",
       "\\begin{tabular}{r|lll}\n",
       "  & areaname & year & population\\\\\n",
       "  & <fct> & <fct> & <int>\\\\\n",
       "\\hline\n",
       "\t1 & Accomack County, VA                                               & X2011 &  33701\\\\\n",
       "\t2 & Alleghany County-Clifton Forge city-Covington city, VA HUD Nonmet & X2011 &  22308\\\\\n",
       "\t3 & Bath County, VA                                                   & X2011 &   4747\\\\\n",
       "\t4 & Blacksburg-Christiansburg-Radford, VA HUD Metro FMR Area          & X2011 & 109753\\\\\n",
       "\t5 & Bland County, VA                                                  & X2011 &   6871\\\\\n",
       "\t6 & Brunswick County, VA                                              & X2011 &  17553\\\\\n",
       "\\end{tabular}\n"
      ],
      "text/markdown": [
       "\n",
       "A data.frame: 6 × 3\n",
       "\n",
       "| <!--/--> | areaname &lt;fct&gt; | year &lt;fct&gt; | population &lt;int&gt; |\n",
       "|---|---|---|---|\n",
       "| 1 | Accomack County, VA                                               | X2011 |  33701 |\n",
       "| 2 | Alleghany County-Clifton Forge city-Covington city, VA HUD Nonmet | X2011 |  22308 |\n",
       "| 3 | Bath County, VA                                                   | X2011 |   4747 |\n",
       "| 4 | Blacksburg-Christiansburg-Radford, VA HUD Metro FMR Area          | X2011 | 109753 |\n",
       "| 5 | Bland County, VA                                                  | X2011 |   6871 |\n",
       "| 6 | Brunswick County, VA                                              | X2011 |  17553 |\n",
       "\n"
      ],
      "text/plain": [
       "  areaname                                                          year \n",
       "1 Accomack County, VA                                               X2011\n",
       "2 Alleghany County-Clifton Forge city-Covington city, VA HUD Nonmet X2011\n",
       "3 Bath County, VA                                                   X2011\n",
       "4 Blacksburg-Christiansburg-Radford, VA HUD Metro FMR Area          X2011\n",
       "5 Bland County, VA                                                  X2011\n",
       "6 Brunswick County, VA                                              X2011\n",
       "  population\n",
       "1  33701    \n",
       "2  22308    \n",
       "3   4747    \n",
       "4 109753    \n",
       "5   6871    \n",
       "6  17553    "
      ]
     },
     "metadata": {},
     "output_type": "display_data"
    }
   ],
   "source": [
    "library(tidyr)\n",
    "popn_long <- gather(popn, year, population, X2011:X2020, factor_key=TRUE)\n",
    "head(popn_long)"
   ]
  },
  {
   "cell_type": "code",
   "execution_count": 92,
   "id": "94d81c38-94da-436a-a849-a98b58c9c7b3",
   "metadata": {},
   "outputs": [
    {
     "data": {
      "text/html": [
       "<table class=\"dataframe\">\n",
       "<caption>A data.frame: 6 × 4</caption>\n",
       "<thead>\n",
       "\t<tr><th></th><th scope=col>areaname</th><th scope=col>category</th><th scope=col>year</th><th scope=col>price</th></tr>\n",
       "\t<tr><th></th><th scope=col>&lt;fct&gt;</th><th scope=col>&lt;fct&gt;</th><th scope=col>&lt;fct&gt;</th><th scope=col>&lt;dbl&gt;</th></tr>\n",
       "</thead>\n",
       "<tbody>\n",
       "\t<tr><th scope=row>1</th><td>Accomack County, VA                                              </td><td>Ordinary Town</td><td>X2020</td><td> 804.8</td></tr>\n",
       "\t<tr><th scope=row>2</th><td>Charlottesville, VA MSA                                          </td><td>College Town </td><td>X2020</td><td>1342.6</td></tr>\n",
       "\t<tr><th scope=row>3</th><td>Alleghany County-Clifton Forge city-Covington city, VA HUD Nonmet</td><td>College Town </td><td>X2020</td><td> 782.6</td></tr>\n",
       "\t<tr><th scope=row>4</th><td>Staunton-Waynesboro, VA MSA                                      </td><td>College Town </td><td>X2020</td><td> 953.4</td></tr>\n",
       "\t<tr><th scope=row>5</th><td>Bath County, VA                                                  </td><td>Ordinary Town</td><td>X2020</td><td> 774.8</td></tr>\n",
       "\t<tr><th scope=row>6</th><td>Bland County, VA                                                 </td><td>Ordinary Town</td><td>X2020</td><td> 754.4</td></tr>\n",
       "</tbody>\n",
       "</table>\n"
      ],
      "text/latex": [
       "A data.frame: 6 × 4\n",
       "\\begin{tabular}{r|llll}\n",
       "  & areaname & category & year & price\\\\\n",
       "  & <fct> & <fct> & <fct> & <dbl>\\\\\n",
       "\\hline\n",
       "\t1 & Accomack County, VA                                               & Ordinary Town & X2020 &  804.8\\\\\n",
       "\t2 & Charlottesville, VA MSA                                           & College Town  & X2020 & 1342.6\\\\\n",
       "\t3 & Alleghany County-Clifton Forge city-Covington city, VA HUD Nonmet & College Town  & X2020 &  782.6\\\\\n",
       "\t4 & Staunton-Waynesboro, VA MSA                                       & College Town  & X2020 &  953.4\\\\\n",
       "\t5 & Bath County, VA                                                   & Ordinary Town & X2020 &  774.8\\\\\n",
       "\t6 & Bland County, VA                                                  & Ordinary Town & X2020 &  754.4\\\\\n",
       "\\end{tabular}\n"
      ],
      "text/markdown": [
       "\n",
       "A data.frame: 6 × 4\n",
       "\n",
       "| <!--/--> | areaname &lt;fct&gt; | category &lt;fct&gt; | year &lt;fct&gt; | price &lt;dbl&gt; |\n",
       "|---|---|---|---|---|\n",
       "| 1 | Accomack County, VA                                               | Ordinary Town | X2020 |  804.8 |\n",
       "| 2 | Charlottesville, VA MSA                                           | College Town  | X2020 | 1342.6 |\n",
       "| 3 | Alleghany County-Clifton Forge city-Covington city, VA HUD Nonmet | College Town  | X2020 |  782.6 |\n",
       "| 4 | Staunton-Waynesboro, VA MSA                                       | College Town  | X2020 |  953.4 |\n",
       "| 5 | Bath County, VA                                                   | Ordinary Town | X2020 |  774.8 |\n",
       "| 6 | Bland County, VA                                                  | Ordinary Town | X2020 |  754.4 |\n",
       "\n"
      ],
      "text/plain": [
       "  areaname                                                         \n",
       "1 Accomack County, VA                                              \n",
       "2 Charlottesville, VA MSA                                          \n",
       "3 Alleghany County-Clifton Forge city-Covington city, VA HUD Nonmet\n",
       "4 Staunton-Waynesboro, VA MSA                                      \n",
       "5 Bath County, VA                                                  \n",
       "6 Bland County, VA                                                 \n",
       "  category      year  price \n",
       "1 Ordinary Town X2020  804.8\n",
       "2 College Town  X2020 1342.6\n",
       "3 College Town  X2020  782.6\n",
       "4 College Town  X2020  953.4\n",
       "5 Ordinary Town X2020  774.8\n",
       "6 Ordinary Town X2020  754.4"
      ]
     },
     "metadata": {},
     "output_type": "display_data"
    }
   ],
   "source": [
    "rent$areaname <- factor(rent$areaname)\n",
    "rent_long <- gather(rent, year, price, X2020:X2011, factor_key=TRUE)\n",
    "head(rent_long)"
   ]
  },
  {
   "cell_type": "markdown",
   "id": "10db7781-4d51-4fef-8658-56f2efa5d5c8",
   "metadata": {},
   "source": [
    "Now, we can proceed with the merge."
   ]
  },
  {
   "cell_type": "code",
   "execution_count": 119,
   "id": "41cd1519-f2aa-4d22-863d-b27c0c4c02b6",
   "metadata": {},
   "outputs": [
    {
     "data": {
      "text/html": [
       "<table class=\"dataframe\">\n",
       "<caption>A data.frame: 6 × 5</caption>\n",
       "<thead>\n",
       "\t<tr><th></th><th scope=col>areaname</th><th scope=col>year</th><th scope=col>category</th><th scope=col>price</th><th scope=col>population</th></tr>\n",
       "\t<tr><th></th><th scope=col>&lt;fct&gt;</th><th scope=col>&lt;fct&gt;</th><th scope=col>&lt;fct&gt;</th><th scope=col>&lt;dbl&gt;</th><th scope=col>&lt;int&gt;</th></tr>\n",
       "</thead>\n",
       "<tbody>\n",
       "\t<tr><th scope=row>1</th><td>Accomack County, VA</td><td>X2011</td><td>Ordinary Town</td><td>649.8</td><td>33701</td></tr>\n",
       "\t<tr><th scope=row>2</th><td>Accomack County, VA</td><td>X2012</td><td>Ordinary Town</td><td>675.2</td><td>33454</td></tr>\n",
       "\t<tr><th scope=row>3</th><td>Accomack County, VA</td><td>X2013</td><td>Ordinary Town</td><td>810.8</td><td>33289</td></tr>\n",
       "\t<tr><th scope=row>4</th><td>Accomack County, VA</td><td>X2014</td><td>Ordinary Town</td><td>805.4</td><td>33165</td></tr>\n",
       "\t<tr><th scope=row>5</th><td>Accomack County, VA</td><td>X2015</td><td>Ordinary Town</td><td>817.4</td><td>33115</td></tr>\n",
       "\t<tr><th scope=row>6</th><td>Accomack County, VA</td><td>X2016</td><td>Ordinary Town</td><td>833.8</td><td>33060</td></tr>\n",
       "</tbody>\n",
       "</table>\n"
      ],
      "text/latex": [
       "A data.frame: 6 × 5\n",
       "\\begin{tabular}{r|lllll}\n",
       "  & areaname & year & category & price & population\\\\\n",
       "  & <fct> & <fct> & <fct> & <dbl> & <int>\\\\\n",
       "\\hline\n",
       "\t1 & Accomack County, VA & X2011 & Ordinary Town & 649.8 & 33701\\\\\n",
       "\t2 & Accomack County, VA & X2012 & Ordinary Town & 675.2 & 33454\\\\\n",
       "\t3 & Accomack County, VA & X2013 & Ordinary Town & 810.8 & 33289\\\\\n",
       "\t4 & Accomack County, VA & X2014 & Ordinary Town & 805.4 & 33165\\\\\n",
       "\t5 & Accomack County, VA & X2015 & Ordinary Town & 817.4 & 33115\\\\\n",
       "\t6 & Accomack County, VA & X2016 & Ordinary Town & 833.8 & 33060\\\\\n",
       "\\end{tabular}\n"
      ],
      "text/markdown": [
       "\n",
       "A data.frame: 6 × 5\n",
       "\n",
       "| <!--/--> | areaname &lt;fct&gt; | year &lt;fct&gt; | category &lt;fct&gt; | price &lt;dbl&gt; | population &lt;int&gt; |\n",
       "|---|---|---|---|---|---|\n",
       "| 1 | Accomack County, VA | X2011 | Ordinary Town | 649.8 | 33701 |\n",
       "| 2 | Accomack County, VA | X2012 | Ordinary Town | 675.2 | 33454 |\n",
       "| 3 | Accomack County, VA | X2013 | Ordinary Town | 810.8 | 33289 |\n",
       "| 4 | Accomack County, VA | X2014 | Ordinary Town | 805.4 | 33165 |\n",
       "| 5 | Accomack County, VA | X2015 | Ordinary Town | 817.4 | 33115 |\n",
       "| 6 | Accomack County, VA | X2016 | Ordinary Town | 833.8 | 33060 |\n",
       "\n"
      ],
      "text/plain": [
       "  areaname            year  category      price population\n",
       "1 Accomack County, VA X2011 Ordinary Town 649.8 33701     \n",
       "2 Accomack County, VA X2012 Ordinary Town 675.2 33454     \n",
       "3 Accomack County, VA X2013 Ordinary Town 810.8 33289     \n",
       "4 Accomack County, VA X2014 Ordinary Town 805.4 33165     \n",
       "5 Accomack County, VA X2015 Ordinary Town 817.4 33115     \n",
       "6 Accomack County, VA X2016 Ordinary Town 833.8 33060     "
      ]
     },
     "metadata": {},
     "output_type": "display_data"
    }
   ],
   "source": [
    "mrg <- merge(rent_long,popn_long,by=c(\"areaname\",\"year\"))\n",
    "head(mrg)"
   ]
  },
  {
   "cell_type": "markdown",
   "id": "9ac29419-9ef9-4dde-8902-f30263c002f3",
   "metadata": {},
   "source": [
    "We need to delete the X prefix and ensure that the year column is in the right date format "
   ]
  },
  {
   "cell_type": "code",
   "execution_count": 123,
   "id": "3a0f25e5-12c5-4eb0-82ec-27243e711796",
   "metadata": {},
   "outputs": [],
   "source": [
    "levels(mrg$year) <- sub(\"^X\", \"\", levels(mrg$year))"
   ]
  },
  {
   "cell_type": "code",
   "execution_count": 124,
   "id": "35e763b1-976d-4efa-af00-2901f6b3763d",
   "metadata": {},
   "outputs": [
    {
     "data": {
      "text/html": [
       "<table class=\"dataframe\">\n",
       "<caption>A data.frame: 6 × 5</caption>\n",
       "<thead>\n",
       "\t<tr><th></th><th scope=col>areaname</th><th scope=col>year</th><th scope=col>category</th><th scope=col>price</th><th scope=col>population</th></tr>\n",
       "\t<tr><th></th><th scope=col>&lt;fct&gt;</th><th scope=col>&lt;fct&gt;</th><th scope=col>&lt;fct&gt;</th><th scope=col>&lt;dbl&gt;</th><th scope=col>&lt;int&gt;</th></tr>\n",
       "</thead>\n",
       "<tbody>\n",
       "\t<tr><th scope=row>1</th><td>Accomack County, VA</td><td>2011</td><td>Ordinary Town</td><td>649.8</td><td>33701</td></tr>\n",
       "\t<tr><th scope=row>2</th><td>Accomack County, VA</td><td>2012</td><td>Ordinary Town</td><td>675.2</td><td>33454</td></tr>\n",
       "\t<tr><th scope=row>3</th><td>Accomack County, VA</td><td>2013</td><td>Ordinary Town</td><td>810.8</td><td>33289</td></tr>\n",
       "\t<tr><th scope=row>4</th><td>Accomack County, VA</td><td>2014</td><td>Ordinary Town</td><td>805.4</td><td>33165</td></tr>\n",
       "\t<tr><th scope=row>5</th><td>Accomack County, VA</td><td>2015</td><td>Ordinary Town</td><td>817.4</td><td>33115</td></tr>\n",
       "\t<tr><th scope=row>6</th><td>Accomack County, VA</td><td>2016</td><td>Ordinary Town</td><td>833.8</td><td>33060</td></tr>\n",
       "</tbody>\n",
       "</table>\n"
      ],
      "text/latex": [
       "A data.frame: 6 × 5\n",
       "\\begin{tabular}{r|lllll}\n",
       "  & areaname & year & category & price & population\\\\\n",
       "  & <fct> & <fct> & <fct> & <dbl> & <int>\\\\\n",
       "\\hline\n",
       "\t1 & Accomack County, VA & 2011 & Ordinary Town & 649.8 & 33701\\\\\n",
       "\t2 & Accomack County, VA & 2012 & Ordinary Town & 675.2 & 33454\\\\\n",
       "\t3 & Accomack County, VA & 2013 & Ordinary Town & 810.8 & 33289\\\\\n",
       "\t4 & Accomack County, VA & 2014 & Ordinary Town & 805.4 & 33165\\\\\n",
       "\t5 & Accomack County, VA & 2015 & Ordinary Town & 817.4 & 33115\\\\\n",
       "\t6 & Accomack County, VA & 2016 & Ordinary Town & 833.8 & 33060\\\\\n",
       "\\end{tabular}\n"
      ],
      "text/markdown": [
       "\n",
       "A data.frame: 6 × 5\n",
       "\n",
       "| <!--/--> | areaname &lt;fct&gt; | year &lt;fct&gt; | category &lt;fct&gt; | price &lt;dbl&gt; | population &lt;int&gt; |\n",
       "|---|---|---|---|---|---|\n",
       "| 1 | Accomack County, VA | 2011 | Ordinary Town | 649.8 | 33701 |\n",
       "| 2 | Accomack County, VA | 2012 | Ordinary Town | 675.2 | 33454 |\n",
       "| 3 | Accomack County, VA | 2013 | Ordinary Town | 810.8 | 33289 |\n",
       "| 4 | Accomack County, VA | 2014 | Ordinary Town | 805.4 | 33165 |\n",
       "| 5 | Accomack County, VA | 2015 | Ordinary Town | 817.4 | 33115 |\n",
       "| 6 | Accomack County, VA | 2016 | Ordinary Town | 833.8 | 33060 |\n",
       "\n"
      ],
      "text/plain": [
       "  areaname            year category      price population\n",
       "1 Accomack County, VA 2011 Ordinary Town 649.8 33701     \n",
       "2 Accomack County, VA 2012 Ordinary Town 675.2 33454     \n",
       "3 Accomack County, VA 2013 Ordinary Town 810.8 33289     \n",
       "4 Accomack County, VA 2014 Ordinary Town 805.4 33165     \n",
       "5 Accomack County, VA 2015 Ordinary Town 817.4 33115     \n",
       "6 Accomack County, VA 2016 Ordinary Town 833.8 33060     "
      ]
     },
     "metadata": {},
     "output_type": "display_data"
    }
   ],
   "source": [
    "head(mrg)"
   ]
  },
  {
   "cell_type": "markdown",
   "id": "8ac29e5b-c602-4c54-b00f-e6d78f4ea441",
   "metadata": {},
   "source": [
    "Now, we can start building our model"
   ]
  }
 ],
 "metadata": {
  "kernelspec": {
   "display_name": "R",
   "language": "R",
   "name": "ir"
  },
  "language_info": {
   "codemirror_mode": "r",
   "file_extension": ".r",
   "mimetype": "text/x-r-source",
   "name": "R",
   "pygments_lexer": "r",
   "version": "4.1.3"
  }
 },
 "nbformat": 4,
 "nbformat_minor": 5
}
